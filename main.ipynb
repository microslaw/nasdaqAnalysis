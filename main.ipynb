{
 "cells": [
  {
   "cell_type": "code",
   "execution_count": null,
   "metadata": {},
   "outputs": [],
   "source": [
    "%load_ext autoreload\n",
    "%autoreload 2\n",
    "\n",
    "import pandas as pd\n",
    "import plotly.express as px\n",
    "import nasdaq\n",
    "import numpy as np\n",
    "\n",
    "from sklearn.cluster import KMeans\n"
   ]
  },
  {
   "cell_type": "code",
   "execution_count": null,
   "metadata": {},
   "outputs": [],
   "source": [
    "nasdaq.load_nasdaq_data()\n",
    "df = pd.read_csv('nasdaq_top_10_stock_data_2021.csv')\n",
    "df[\"date\"] = pd.to_datetime(df[\"date\"])\n",
    "df[\"month\"] = df[\"date\"].dt.month\n",
    "df[\"daily_change\"] = df[\"close\"] - df[\"open\"]"
   ]
  },
  {
   "cell_type": "code",
   "execution_count": 17,
   "metadata": {},
   "outputs": [],
   "source": [
    "map_colname_source_to_readable = {\n",
    "    \"date\": \"Date\",\n",
    "    \"open\": \"Open Price\",\n",
    "    \"high\": \"High Price\",\n",
    "    \"low\": \"Low Price\",\n",
    "    \"close\": \"Close Price\",\n",
    "    \"volume\": \"Volume\",\n",
    "    \"daily_change\": \"Monthly Change\",\n",
    "    \"month\": \"Month\",\n",
    "    \"company\": \"Company\",\n",
    "}"
   ]
  },
  {
   "cell_type": "code",
   "execution_count": null,
   "metadata": {},
   "outputs": [],
   "source": [
    "df.head()"
   ]
  },
  {
   "cell_type": "code",
   "execution_count": null,
   "metadata": {},
   "outputs": [],
   "source": [
    "fig_line = px.line(\n",
    "    df,\n",
    "    x=\"date\",\n",
    "    y=\"close\",\n",
    "    color=\"company\",\n",
    "    title=\"Top 10 NASDAQ Stocks in 2021\",\n",
    "    height=800,\n",
    "    labels=map_colname_source_to_readable,\n",
    ")\n",
    "fig_line.show()"
   ]
  },
  {
   "cell_type": "code",
   "execution_count": null,
   "metadata": {},
   "outputs": [],
   "source": [
    "distortions = []\n",
    "K = range(1, 11)\n",
    "for k in K:\n",
    "    kmeans = KMeans(n_clusters=k, random_state=42)\n",
    "    kmeans.fit(df[['volume', 'daily_change']])\n",
    "    distortions.append(kmeans.inertia_)\n",
    "\n",
    "import matplotlib.pyplot as plt\n",
    "\n",
    "plt.figure(figsize=(10, 6))\n",
    "plt.plot(K, distortions, 'bx-')\n",
    "plt.xlabel('Number of clusters')\n",
    "plt.ylabel('Distortion')\n",
    "plt.title('Elbow Method For Optimal k')\n",
    "plt.show()"
   ]
  },
  {
   "cell_type": "code",
   "execution_count": null,
   "metadata": {},
   "outputs": [],
   "source": [
    "optimal_k = 2\n",
    "kmeans = KMeans(n_clusters=optimal_k, random_state=42)\n",
    "df['cluster'] = kmeans.fit_predict(df[['volume', 'daily_change']])\n",
    "df['cluster'] = df['cluster'].astype(str)\n",
    "fig_cluster = px.scatter(\n",
    "    df,\n",
    "    y=\"volume\",\n",
    "    x=\"daily_change\",\n",
    "    color=\"cluster\",\n",
    "    title=\"Clustering of NASDAQ Stocks\",\n",
    "    height=800,\n",
    "    labels=map_colname_source_to_readable,\n",
    ")\n",
    "fig_cluster.show()"
   ]
  },
  {
   "cell_type": "code",
   "execution_count": 22,
   "metadata": {},
   "outputs": [],
   "source": [
    "df_bubble = df.groupby([\"month\", \"cluster\"], as_index=False).agg(\n",
    "    {\n",
    "        \"close\": \"mean\",\n",
    "        \"volume\": \"mean\",\n",
    "        \"daily_change\": \"sum\",\n",
    "    }\n",
    ")"
   ]
  },
  {
   "cell_type": "code",
   "execution_count": null,
   "metadata": {},
   "outputs": [],
   "source": [
    "min_volume = df_bubble[\"volume\"].min() * 0.9\n",
    "max_volume = df_bubble[\"volume\"].max() * 1.1\n",
    "\n",
    "min_dayly_change = -df_bubble[\"daily_change\"].abs().max()\n",
    "max_dayly_change = df_bubble[\"daily_change\"].abs().max()\n",
    "\n",
    "fig_bubble = px.scatter(\n",
    "    df_bubble,\n",
    "    x=\"daily_change\",\n",
    "    color=\"cluster\",\n",
    "    y=\"volume\",\n",
    "    size=\"close\",\n",
    "    animation_frame=\"month\",\n",
    "    range_x=[min_dayly_change, max_dayly_change],\n",
    "    range_y=[min_volume, max_volume],\n",
    "    height=800,\n",
    "    labels=map_colname_source_to_readable,\n",
    "    title=\"Clustered NASDAQ Stocks in 2021\",\n",
    ")\n",
    "\n",
    "fig_bubble.layout.updatemenus[0].buttons[0].args[1]['frame']['duration'] = 3_000\n",
    "fig_bubble.layout.updatemenus[0].buttons[0].args[1]['transition']['duration'] = 1_000\n",
    "fig_bubble.show()"
   ]
  },
  {
   "cell_type": "code",
   "execution_count": null,
   "metadata": {},
   "outputs": [],
   "source": [
    "df_corr = df.pivot(index=\"date\", columns=\"company\", values=\"daily_change\")\n",
    "df_corr = df_corr.corr().round(3)\n",
    "\n",
    "fig_corr = px.imshow(\n",
    "    df_corr,\n",
    "    color_continuous_scale=\"RdBu\",\n",
    "    title=\"Correlation matrix between Top 10 NASDAQ Stocks in 2021\",\n",
    "    height=800,\n",
    "    color_continuous_midpoint=0,\n",
    "    labels=map_colname_source_to_readable,\n",
    "    text_auto=True,\n",
    ")\n",
    "fig_corr.show()"
   ]
  },
  {
   "cell_type": "code",
   "execution_count": null,
   "metadata": {},
   "outputs": [],
   "source": [
    "fig_line_diff = px.line(\n",
    "    df,\n",
    "    x=\"date\",\n",
    "    y=\"daily_change\",\n",
    "    color=\"company\",\n",
    "    title=\"Top 10 NASDAQ Stocks in 2021\",\n",
    "    height=800,\n",
    ")\n",
    "fig_line_diff.show()"
   ]
  },
  {
   "cell_type": "code",
   "execution_count": null,
   "metadata": {},
   "outputs": [],
   "source": [
    "from dash import Dash, dcc, html\n",
    "\n",
    "app = Dash()\n",
    "app.layout = html.Div(\n",
    "    [\n",
    "        dcc.Graph(figure=fig_line),\n",
    "        dcc.Graph(figure=fig_bubble),\n",
    "        dcc.Graph(figure=fig_corr),\n",
    "        dcc.Graph(figure=fig_line_diff),\n",
    "    ]\n",
    ")\n",
    "\n",
    "app.run_server(debug=True, port=2137)"
   ]
  },
  {
   "cell_type": "code",
   "execution_count": null,
   "metadata": {},
   "outputs": [],
   "source": []
  }
 ],
 "metadata": {
  "kernelspec": {
   "display_name": ".venv",
   "language": "python",
   "name": "python3"
  },
  "language_info": {
   "codemirror_mode": {
    "name": "ipython",
    "version": 3
   },
   "file_extension": ".py",
   "mimetype": "text/x-python",
   "name": "python",
   "nbconvert_exporter": "python",
   "pygments_lexer": "ipython3",
   "version": "3.13.1"
  }
 },
 "nbformat": 4,
 "nbformat_minor": 2
}
